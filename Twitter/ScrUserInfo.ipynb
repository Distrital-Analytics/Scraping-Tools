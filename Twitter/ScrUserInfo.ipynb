{
 "cells": [
  {
   "cell_type": "code",
   "execution_count": 1,
   "metadata": {},
   "outputs": [
    {
     "name": "stderr",
     "output_type": "stream",
     "text": [
      "INFO: {'User-Agent': 'Opera/9.80 (X11; Linux i686; Ubuntu/14.10) Presto/2.12.388 Version/12.16'}\n"
     ]
    }
   ],
   "source": [
    "from twitterscraper.query import query_user_info\n",
    "import pandas as pd"
   ]
  },
  {
   "cell_type": "code",
   "execution_count": 2,
   "metadata": {},
   "outputs": [
    {
     "name": "stderr",
     "output_type": "stream",
     "text": [
      "INFO: Using proxy 36.89.189.137:46537\n",
      "INFO: Got user information from username petrogustavo\n"
     ]
    }
   ],
   "source": [
    "user_info=query_user_info(user='petrogustavo')"
   ]
  },
  {
   "cell_type": "code",
   "execution_count": 3,
   "metadata": {},
   "outputs": [
    {
     "name": "stdout",
     "output_type": "stream",
     "text": [
      "            Info                     User\n",
      "0           User             petrogustavo\n",
      "1       Fullname            Gustavo Petro\n",
      "2       Location  ÜT: 4.650541,-74.074043\n",
      "3           Blog             petro.com.co\n",
      "4   Date joinded     19:04 - 22 jun. 2009\n",
      "5             Id                 49849732\n",
      "6      N° tweets                   119997\n",
      "7      Following                     2351\n",
      "8      Followers                  3616966\n",
      "9          Likes                    15260\n",
      "10         Lists                      132\n"
     ]
    }
   ],
   "source": [
    "inf={'Info':['User','Fullname','Location','Blog','Date joinded','Id','N° tweets','Following','Followers','Likes','Lists'],\n",
    "     'User':[user_info.user, user_info.full_name, user_info.location, user_info.blog, user_info.date_joined,user_info.id,user_info.tweets,user_info.following,user_info.followers,user_info.likes,user_info.lists]}\n",
    "df = pd.DataFrame(inf)\n",
    "print(df)"
   ]
  }
 ],
 "metadata": {
  "kernelspec": {
   "display_name": "Python 3",
   "language": "python",
   "name": "python3"
  },
  "language_info": {
   "codemirror_mode": {
    "name": "ipython",
    "version": 3
   },
   "file_extension": ".py",
   "mimetype": "text/x-python",
   "name": "python",
   "nbconvert_exporter": "python",
   "pygments_lexer": "ipython3",
   "version": "3.7.4"
  }
 },
 "nbformat": 4,
 "nbformat_minor": 2
}
