{
 "cells": [
  {
   "cell_type": "code",
   "execution_count": 16,
   "metadata": {},
   "outputs": [],
   "source": [
    "import os\n",
    "import tweepy as tw\n",
    "import pandas as pd\n",
    "import csv\n",
    "from time import time"
   ]
  },
  {
   "cell_type": "code",
   "execution_count": 3,
   "metadata": {},
   "outputs": [],
   "source": [
    "#Credenciales de la cuenta de desarrollador de Twitter. estas son las mías, no abusen porfi.\n",
    "consumer_key= 'r6gEyYUiRiVQtr6sRG7Htt3kf'\n",
    "consumer_secret= '5lU6JSSeDKF3Q9bndktS4VzcNb0cYznn1dBDXUC756gRFIelOd'\n",
    "access_token= '1219068075804327937-GDVGhYBuZlnroxHY1FsjYCBFSTPKFg'\n",
    "access_token_secret= 'lpDmHpz2ZqDYlV0zKibsq8gk8m8e3sRLE8nnRnTPbvWXM'\n",
    "#Autenticación\n",
    "auth = tw.OAuthHandler(consumer_key, consumer_secret)\n",
    "auth.set_access_token(access_token, access_token_secret)\n",
    "api = tw.API(auth,wait_on_rate_limit=True)\n"
   ]
  },
  {
   "cell_type": "code",
   "execution_count": 4,
   "metadata": {},
   "outputs": [
    {
     "data": {
      "text/html": [
       "<div>\n",
       "<style scoped>\n",
       "    .dataframe tbody tr th:only-of-type {\n",
       "        vertical-align: middle;\n",
       "    }\n",
       "\n",
       "    .dataframe tbody tr th {\n",
       "        vertical-align: top;\n",
       "    }\n",
       "\n",
       "    .dataframe thead th {\n",
       "        text-align: right;\n",
       "    }\n",
       "</style>\n",
       "<table border=\"1\" class=\"dataframe\">\n",
       "  <thead>\n",
       "    <tr style=\"text-align: right;\">\n",
       "      <th></th>\n",
       "      <th>Nombre</th>\n",
       "      <th>tweets</th>\n",
       "    </tr>\n",
       "  </thead>\n",
       "  <tbody>\n",
       "    <tr>\n",
       "      <td>0</td>\n",
       "      <td>#SerieAxESPN</td>\n",
       "      <td>10984</td>\n",
       "    </tr>\n",
       "    <tr>\n",
       "      <td>1</td>\n",
       "      <td>Milan</td>\n",
       "      <td>113257</td>\n",
       "    </tr>\n",
       "    <tr>\n",
       "      <td>2</td>\n",
       "      <td>Zlatan</td>\n",
       "      <td>29344</td>\n",
       "    </tr>\n",
       "    <tr>\n",
       "      <td>3</td>\n",
       "      <td>Sergi Roberto</td>\n",
       "      <td>15123</td>\n",
       "    </tr>\n",
       "    <tr>\n",
       "      <td>4</td>\n",
       "      <td>#DerbyDellaMadoninna</td>\n",
       "      <td>NaN</td>\n",
       "    </tr>\n",
       "    <tr>\n",
       "      <td>5</td>\n",
       "      <td>#Oscars</td>\n",
       "      <td>184840</td>\n",
       "    </tr>\n",
       "    <tr>\n",
       "      <td>6</td>\n",
       "      <td>Betis</td>\n",
       "      <td>46571</td>\n",
       "    </tr>\n",
       "    <tr>\n",
       "      <td>7</td>\n",
       "      <td>Lenglet</td>\n",
       "      <td>17962</td>\n",
       "    </tr>\n",
       "    <tr>\n",
       "      <td>8</td>\n",
       "      <td>#DiaDelPeriodista</td>\n",
       "      <td>10461</td>\n",
       "    </tr>\n",
       "    <tr>\n",
       "      <td>9</td>\n",
       "      <td>Eriksen</td>\n",
       "      <td>NaN</td>\n",
       "    </tr>\n",
       "  </tbody>\n",
       "</table>\n",
       "</div>"
      ],
      "text/plain": [
       "                 Nombre  tweets\n",
       "0          #SerieAxESPN   10984\n",
       "1                 Milan  113257\n",
       "2                Zlatan   29344\n",
       "3         Sergi Roberto   15123\n",
       "4  #DerbyDellaMadoninna     NaN\n",
       "5               #Oscars  184840\n",
       "6                 Betis   46571\n",
       "7               Lenglet   17962\n",
       "8     #DiaDelPeriodista   10461\n",
       "9               Eriksen     NaN"
      ]
     },
     "execution_count": 4,
     "metadata": {},
     "output_type": "execute_result"
    }
   ],
   "source": [
    "#Esta función me arrojará las tendencias en un lugar, el argumento int corresponde al código de localización. \n",
    "def tendencia_lugar(int):\n",
    "    trends1 = api.trends_place(int) # El valor dentro del paréntesis es la localización. \n",
    "    trends = trends1[0]['trends']\n",
    "    temp= pd.DataFrame(columns = ['Nombre','tweets'])\n",
    "    for trend in trends:\n",
    "        if trend['tweet_volume'] == None:\n",
    "            temp = temp.append({'Nombre': trend['name']},ignore_index = True)\n",
    "        else: \n",
    "            temp = temp.append({'Nombre': trend['name'],'tweets': trend['tweet_volume']},ignore_index = True)\n",
    "    return temp\n",
    "tabla_tendencias = tendencia_lugar(368148)\n",
    "tabla_tendencias.head(10)"
   ]
  },
  {
   "cell_type": "code",
   "execution_count": 38,
   "metadata": {},
   "outputs": [],
   "source": [
    "#Creamos un df para guardar los tweets de la tendencia que es el argumento de str\n",
    "def tabla_tendencia(str):\n",
    "    temp = pd.DataFrame(columns= ['Usuario','Fecha','Texto'])\n",
    "    tiempo_inicial = time() \n",
    "    for tweet in tw.Cursor(api.search,q=str,count=100,lang=\"es\",since=\"2020-02-07\").items(10000):\n",
    "        temp = temp.append({'Usuario': tweet.user.screen_name, 'Fecha': tweet.created_at, 'Texto': tweet.text}, ignore_index = True)\n",
    "    tiempo_final = time()\n",
    "    print(tiempo_final - tiempo_inicial)\n",
    "    return temp"
   ]
  },
  {
   "cell_type": "code",
   "execution_count": 39,
   "metadata": {},
   "outputs": [
    {
     "data": {
      "text/plain": [
       "'#DiaDelPeriodista'"
      ]
     },
     "execution_count": 39,
     "metadata": {},
     "output_type": "execute_result"
    }
   ],
   "source": [
    "tabla_tendencias['Nombre'][8]"
   ]
  },
  {
   "cell_type": "code",
   "execution_count": 40,
   "metadata": {},
   "outputs": [
    {
     "name": "stdout",
     "output_type": "stream",
     "text": [
      "247.3633749485016\n"
     ]
    }
   ],
   "source": [
    "#El valor numérico que arroja corresponde al tiempo que se demora en descargar los datos y generar la tabla\n",
    "tabla = tabla_tendencia(tabla_tendencias['Nombre'][8])"
   ]
  },
  {
   "cell_type": "code",
   "execution_count": 41,
   "metadata": {},
   "outputs": [
    {
     "data": {
      "text/html": [
       "<div>\n",
       "<style scoped>\n",
       "    .dataframe tbody tr th:only-of-type {\n",
       "        vertical-align: middle;\n",
       "    }\n",
       "\n",
       "    .dataframe tbody tr th {\n",
       "        vertical-align: top;\n",
       "    }\n",
       "\n",
       "    .dataframe thead th {\n",
       "        text-align: right;\n",
       "    }\n",
       "</style>\n",
       "<table border=\"1\" class=\"dataframe\">\n",
       "  <thead>\n",
       "    <tr style=\"text-align: right;\">\n",
       "      <th></th>\n",
       "      <th>Usuario</th>\n",
       "      <th>Fecha</th>\n",
       "      <th>Texto</th>\n",
       "    </tr>\n",
       "  </thead>\n",
       "  <tbody>\n",
       "    <tr>\n",
       "      <td>0</td>\n",
       "      <td>jufeletti</td>\n",
       "      <td>2020-02-09 22:13:47</td>\n",
       "      <td>RT @PartidoFARC: En el #DíaDelPeriodista recor...</td>\n",
       "    </tr>\n",
       "    <tr>\n",
       "      <td>1</td>\n",
       "      <td>JuanCarpentier</td>\n",
       "      <td>2020-02-09 22:13:44</td>\n",
       "      <td>RT @MirandaBogota: En el #DiaDelPeriodista qui...</td>\n",
       "    </tr>\n",
       "    <tr>\n",
       "      <td>2</td>\n",
       "      <td>miryam_oss</td>\n",
       "      <td>2020-02-09 22:13:40</td>\n",
       "      <td>RT @IvanDuque: Hoy se celebra una fecha muy es...</td>\n",
       "    </tr>\n",
       "    <tr>\n",
       "      <td>3</td>\n",
       "      <td>INCOGNITOS8888</td>\n",
       "      <td>2020-02-09 22:13:35</td>\n",
       "      <td>RT @gamiz_rios: #FelizDomingo #BuenDomingo #Di...</td>\n",
       "    </tr>\n",
       "    <tr>\n",
       "      <td>4</td>\n",
       "      <td>jufeletti</td>\n",
       "      <td>2020-02-09 22:13:34</td>\n",
       "      <td>RT @Marce_Tabares: Intervención de #PiojitoAlc...</td>\n",
       "    </tr>\n",
       "    <tr>\n",
       "      <td>...</td>\n",
       "      <td>...</td>\n",
       "      <td>...</td>\n",
       "      <td>...</td>\n",
       "    </tr>\n",
       "    <tr>\n",
       "      <td>9995</td>\n",
       "      <td>DAFP_COLOMBIA</td>\n",
       "      <td>2020-02-09 09:10:50</td>\n",
       "      <td>RT @FernandoGrilloR: Hoy quiero felicitar a to...</td>\n",
       "    </tr>\n",
       "    <tr>\n",
       "      <td>9996</td>\n",
       "      <td>FernandoGrilloR</td>\n",
       "      <td>2020-02-09 09:10:40</td>\n",
       "      <td>Hoy quiero felicitar a todos los periodistas q...</td>\n",
       "    </tr>\n",
       "    <tr>\n",
       "      <td>9997</td>\n",
       "      <td>DEVIACAMACHO</td>\n",
       "      <td>2020-02-09 09:03:52</td>\n",
       "      <td>RT @EdgardoSales: Hoy celebramos #diadelperiod...</td>\n",
       "    </tr>\n",
       "    <tr>\n",
       "      <td>9998</td>\n",
       "      <td>FabianOviedoP</td>\n",
       "      <td>2020-02-09 08:25:39</td>\n",
       "      <td>Admiración y respeto a todos los que informan ...</td>\n",
       "    </tr>\n",
       "    <tr>\n",
       "      <td>9999</td>\n",
       "      <td>PaolaAndrea9503</td>\n",
       "      <td>2020-02-09 08:07:54</td>\n",
       "      <td>¡Feliz día colegas! #DiaDelPeriodista  #felizd...</td>\n",
       "    </tr>\n",
       "  </tbody>\n",
       "</table>\n",
       "<p>10000 rows × 3 columns</p>\n",
       "</div>"
      ],
      "text/plain": [
       "              Usuario               Fecha  \\\n",
       "0           jufeletti 2020-02-09 22:13:47   \n",
       "1      JuanCarpentier 2020-02-09 22:13:44   \n",
       "2          miryam_oss 2020-02-09 22:13:40   \n",
       "3      INCOGNITOS8888 2020-02-09 22:13:35   \n",
       "4           jufeletti 2020-02-09 22:13:34   \n",
       "...               ...                 ...   \n",
       "9995    DAFP_COLOMBIA 2020-02-09 09:10:50   \n",
       "9996  FernandoGrilloR 2020-02-09 09:10:40   \n",
       "9997     DEVIACAMACHO 2020-02-09 09:03:52   \n",
       "9998    FabianOviedoP 2020-02-09 08:25:39   \n",
       "9999  PaolaAndrea9503 2020-02-09 08:07:54   \n",
       "\n",
       "                                                  Texto  \n",
       "0     RT @PartidoFARC: En el #DíaDelPeriodista recor...  \n",
       "1     RT @MirandaBogota: En el #DiaDelPeriodista qui...  \n",
       "2     RT @IvanDuque: Hoy se celebra una fecha muy es...  \n",
       "3     RT @gamiz_rios: #FelizDomingo #BuenDomingo #Di...  \n",
       "4     RT @Marce_Tabares: Intervención de #PiojitoAlc...  \n",
       "...                                                 ...  \n",
       "9995  RT @FernandoGrilloR: Hoy quiero felicitar a to...  \n",
       "9996  Hoy quiero felicitar a todos los periodistas q...  \n",
       "9997  RT @EdgardoSales: Hoy celebramos #diadelperiod...  \n",
       "9998  Admiración y respeto a todos los que informan ...  \n",
       "9999  ¡Feliz día colegas! #DiaDelPeriodista  #felizd...  \n",
       "\n",
       "[10000 rows x 3 columns]"
      ]
     },
     "execution_count": 41,
     "metadata": {},
     "output_type": "execute_result"
    }
   ],
   "source": [
    "tabla"
   ]
  },
  {
   "cell_type": "code",
   "execution_count": null,
   "metadata": {},
   "outputs": [],
   "source": []
  }
 ],
 "metadata": {
  "kernelspec": {
   "display_name": "Python 3",
   "language": "python",
   "name": "python3"
  },
  "language_info": {
   "codemirror_mode": {
    "name": "ipython",
    "version": 3
   },
   "file_extension": ".py",
   "mimetype": "text/x-python",
   "name": "python",
   "nbconvert_exporter": "python",
   "pygments_lexer": "ipython3",
   "version": "3.7.4"
  }
 },
 "nbformat": 4,
 "nbformat_minor": 2
}
